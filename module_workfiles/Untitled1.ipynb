{
 "cells": [
  {
   "cell_type": "code",
   "execution_count": 219,
   "id": "77f531c2-d946-4ac5-8656-490f4db5869f",
   "metadata": {},
   "outputs": [],
   "source": [
    "import pyspark\n",
    "from pyspark.sql import SparkSession\n",
    "import yfinance as yahooFinance\n",
    "import pandas as pd"
   ]
  },
  {
   "cell_type": "code",
   "execution_count": 220,
   "id": "92e65c90-b038-489f-bc15-ca5f286298ca",
   "metadata": {},
   "outputs": [],
   "source": [
    "spark = SparkSession.builder \\\n",
    "    .master(\"local[*]\") \\\n",
    "    .appName('test') \\\n",
    "    .getOrCreate()"
   ]
  },
  {
   "cell_type": "code",
   "execution_count": 221,
   "id": "cde29022-fcf4-4896-afe0-041cbafe7b0a",
   "metadata": {},
   "outputs": [],
   "source": [
    "# Import packages\n",
    "import yfinance as yf\n",
    "import pandas as pd\n",
    "\n",
    "# Read and print the stock tickers that make up S&P500\n",
    "tickers = pd.read_html('https://en.wikipedia.org/wiki/List_of_S%26P_500_companies')[0]\n",
    "tickers.to_csv(\"list_500_companies.csv\")\n"
   ]
  },
  {
   "cell_type": "code",
   "execution_count": 124,
   "id": "cc50e3d4-3af6-4c58-beec-d28416134c9f",
   "metadata": {},
   "outputs": [
    {
     "name": "stdout",
     "output_type": "stream",
     "text": [
      "504 list_500_companies.csv\n"
     ]
    }
   ],
   "source": [
    "!wc -l list_500_companies.csv"
   ]
  },
  {
   "cell_type": "code",
   "execution_count": null,
   "id": "ddef3e0d-b4d3-46a0-96cf-a08810894000",
   "metadata": {},
   "outputs": [],
   "source": []
  },
  {
   "cell_type": "code",
   "execution_count": 77,
   "id": "495a6226-95e9-40ec-9b85-9cf0e57a8fb6",
   "metadata": {},
   "outputs": [],
   "source": [
    "df = spark.read \\\n",
    "    .option(\"header\", \"true\") \\\n",
    "    .csv('list_500_companies.csv')"
   ]
  },
  {
   "cell_type": "code",
   "execution_count": 86,
   "id": "7cf7a0dd-0c7f-4b75-ba68-69a8a58c430c",
   "metadata": {},
   "outputs": [
    {
     "name": "stdout",
     "output_type": "stream",
     "text": [
      "24/04/12 12:21:24 WARN CSVHeaderChecker: CSV header does not conform to the schema.\n",
      " Header: , Symbol, Security, GICS Sector, GICS Sub-Industry, Headquarters Location, Date added, CIK, Founded\n",
      " Schema: _c0, Symbol, Security, GICS Sector, GICS Sub-Industry, Headquarters Location, Date added, CIK, Founded\n",
      "Expected: _c0 but found: \n",
      "CSV file: file:///workspaces/RKZoomCamp2024/list_500_companies.csv\n",
      "+---+------+--------------------+--------------------+--------------------+---------------------+----------+-------+-----------+\n",
      "|_c0|Symbol|            Security|         GICS Sector|   GICS Sub-Industry|Headquarters Location|Date added|    CIK|    Founded|\n",
      "+---+------+--------------------+--------------------+--------------------+---------------------+----------+-------+-----------+\n",
      "|  0|   MMM|                  3M|         Industrials|Industrial Conglo...| Saint Paul, Minne...|1957-03-04|  66740|       1902|\n",
      "|  1|   AOS|         A. O. Smith|         Industrials|   Building Products| Milwaukee, Wisconsin|2017-07-26|  91142|       1916|\n",
      "|  2|   ABT|              Abbott|         Health Care|Health Care Equip...| North Chicago, Il...|1957-03-04|   1800|       1888|\n",
      "|  3|  ABBV|              AbbVie|         Health Care|       Biotechnology| North Chicago, Il...|2012-12-31|1551152|2013 (1888)|\n",
      "|  4|   ACN|           Accenture|Information Techn...|IT Consulting & O...|      Dublin, Ireland|2011-07-06|1467373|       1989|\n",
      "|  5|  ADBE|          Adobe Inc.|Information Techn...|Application Software| San Jose, California|1997-05-05| 796343|       1982|\n",
      "|  6|   AMD|Advanced Micro De...|Information Techn...|      Semiconductors| Santa Clara, Cali...|2017-03-20|   2488|       1969|\n",
      "|  7|   AES|     AES Corporation|           Utilities|Independent Power...|  Arlington, Virginia|1998-10-02| 874761|       1981|\n",
      "|  8|   AFL|               Aflac|          Financials|Life & Health Ins...|    Columbus, Georgia|1999-05-28|   4977|       1955|\n",
      "|  9|     A|Agilent Technologies|         Health Care|Life Sciences Too...| Santa Clara, Cali...|2000-06-05|1090872|       1999|\n",
      "| 10|   APD|Air Products and ...|           Materials|    Industrial Gases| Allentown, Pennsy...|1985-04-30|   2969|       1940|\n",
      "| 11|  ABNB|              Airbnb|Consumer Discreti...|Hotels, Resorts &...| San Francisco, Ca...|2023-09-18|1559720|       2008|\n",
      "| 12|  AKAM|              Akamai|Information Techn...|Internet Services...| Cambridge, Massac...|2007-07-12|1086222|       1998|\n",
      "| 13|   ALB|Albemarle Corpora...|           Materials| Specialty Chemicals| Charlotte, North ...|2016-07-01| 915913|       1994|\n",
      "| 14|   ARE|Alexandria Real E...|         Real Estate|        Office REITs| Pasadena, California|2017-03-20|1035443|       1994|\n",
      "| 15|  ALGN|    Align Technology|         Health Care|Health Care Supplies|       Tempe, Arizona|2017-06-19|1097149|       1997|\n",
      "| 16|  ALLE|            Allegion|         Industrials|   Building Products|      Dublin, Ireland|2013-12-02|1579241|       1908|\n",
      "| 17|   LNT|      Alliant Energy|           Utilities|  Electric Utilities|   Madison, Wisconsin|2016-07-01| 352541|       1917|\n",
      "| 18|   ALL|            Allstate|          Financials|Property & Casual...| Northbrook, Illinois|1995-07-13| 899051|       1931|\n",
      "| 19| GOOGL|Alphabet Inc. (Cl...|Communication Ser...|Interactive Media...| Mountain View, Ca...|2014-04-03|1652044|       1998|\n",
      "+---+------+--------------------+--------------------+--------------------+---------------------+----------+-------+-----------+\n",
      "only showing top 20 rows\n",
      "\n"
     ]
    }
   ],
   "source": [
    "df.show()"
   ]
  },
  {
   "cell_type": "code",
   "execution_count": 131,
   "id": "0a309ef4-5078-4a24-abaf-1060497b3538",
   "metadata": {},
   "outputs": [],
   "source": [
    "# in order to specify start date and \n",
    "# end date we need datetime package\n",
    "import datetime\n",
    " \n",
    "# startDate , as per our convenience we can modify\n",
    "startDate = datetime.datetime(2017, 1, 1)\n",
    " \n",
    "# endDate , as per our convenience we can modify\n",
    "endDate = datetime.datetime(2023, 12, 31)\n"
   ]
  },
  {
   "cell_type": "code",
   "execution_count": 176,
   "id": "56564289-1ceb-40bb-89b7-99aecba8ee89",
   "metadata": {},
   "outputs": [
    {
     "name": "stdout",
     "output_type": "stream",
     "text": [
      "['META', 'AMZN']\n"
     ]
    }
   ],
   "source": [
    "#files = ['META', 'AMZN', 'GOOGL', 'AMD']\n",
    "files = ['META', 'AMZN']\n",
    "print(files)"
   ]
  },
  {
   "cell_type": "code",
   "execution_count": 177,
   "id": "9b8a67f9-55ac-4d03-83dc-957ac661d05d",
   "metadata": {},
   "outputs": [
    {
     "name": "stdout",
     "output_type": "stream",
     "text": [
      "META_hist.csv\n",
      "AMZN_hist.csv\n"
     ]
    }
   ],
   "source": [
    "for f in files:\n",
    "    stock = yahooFinance.Ticker(f)\n",
    "    # pass the parameters as the taken dates for start and end\n",
    "    hist = stock.history(start=startDate,end=endDate)\n",
    "    hist.to_csv(f'{f}_hist.csv')\n",
    "    file_name = f'{f}_hist.csv'\n",
    "    print(file_name)"
   ]
  },
  {
   "cell_type": "code",
   "execution_count": 178,
   "id": "fe0c2de7-8ec0-4b6b-9ee0-d823de89dc39",
   "metadata": {},
   "outputs": [
    {
     "name": "stdout",
     "output_type": "stream",
     "text": [
      "1761 AMZN_hist.csv\n"
     ]
    }
   ],
   "source": [
    "!wc -l {file_name}"
   ]
  },
  {
   "cell_type": "code",
   "execution_count": 179,
   "id": "49a1bf13-e443-4c2b-9b1c-60867bba0105",
   "metadata": {},
   "outputs": [],
   "source": [
    "df = spark.read \\\n",
    "    .option(\"header\", \"true\") \\\n",
    "    .csv(file_name)"
   ]
  },
  {
   "cell_type": "code",
   "execution_count": 180,
   "id": "1bc37570-7ca0-443c-82a2-4d3413aaa95e",
   "metadata": {},
   "outputs": [
    {
     "name": "stdout",
     "output_type": "stream",
     "text": [
      "+--------------------+------------------+------------------+------------------+------------------+---------+---------+------------+\n",
      "|                Date|              Open|              High|               Low|             Close|   Volume|Dividends|Stock Splits|\n",
      "+--------------------+------------------+------------------+------------------+------------------+---------+---------+------------+\n",
      "|2017-01-03 00:00:...|37.895999908447266|  37.9379997253418|  37.3849983215332| 37.68349838256836| 70422000|      0.0|         0.0|\n",
      "|2017-01-04 00:00:...|37.919498443603516| 37.98400115966797|37.709999084472656| 37.85900115966797| 50210000|      0.0|         0.0|\n",
      "|2017-01-05 00:00:...| 38.07749938964844|39.119998931884766| 38.01300048828125|39.022499084472656|116602000|      0.0|         0.0|\n",
      "|2017-01-06 00:00:...| 39.11800003051758| 39.97200012207031| 38.92399978637695| 39.79949951171875|119724000|      0.0|         0.0|\n",
      "|2017-01-09 00:00:...|39.900001525878906|  40.0885009765625|  39.5885009765625| 39.84600067138672| 68922000|      0.0|         0.0|\n",
      "|2017-01-10 00:00:...| 39.83000183105469|39.900001525878906| 39.47700119018555| 39.79499816894531| 51168000|      0.0|         0.0|\n",
      "|2017-01-11 00:00:...| 39.68299865722656|39.974998474121094| 39.47549819946289| 39.95100021362305| 59856000|      0.0|         0.0|\n",
      "|2017-01-12 00:00:...|40.015499114990234| 40.70650100708008|39.974998474121094| 40.68199920654297| 97478000|      0.0|         0.0|\n",
      "|2017-01-13 00:00:...|40.715999603271484| 41.08250045776367| 40.56999969482422|40.856998443603516| 75838000|      0.0|         0.0|\n",
      "|2017-01-17 00:00:...| 40.78499984741211| 40.79999923706055|40.172000885009766|40.486000061035156| 73410000|      0.0|         0.0|\n",
      "|2017-01-18 00:00:...|40.474998474121094| 40.58649826049805|  40.2135009765625|40.374000549316406| 47084000|      0.0|         0.0|\n",
      "|2017-01-19 00:00:...|              40.5|40.675498962402344| 40.36600112915039| 40.45199966430664| 50816000|      0.0|         0.0|\n",
      "|2017-01-20 00:00:...|40.763999938964844| 40.80099868774414|  40.3129997253418|40.416500091552734| 67524000|      0.0|         0.0|\n",
      "|2017-01-23 00:00:...| 40.34000015258789| 40.92499923706055| 40.25400161743164| 40.89400100708008| 55950000|      0.0|         0.0|\n",
      "|2017-01-24 00:00:...|41.099998474121094|41.199501037597656|40.724998474121094| 41.12200164794922| 59434000|      0.0|         0.0|\n",
      "|2017-01-25 00:00:...| 41.28950119018555| 41.87099838256836| 41.26449966430664| 41.82600021362305| 78452000|      0.0|         0.0|\n",
      "|2017-01-26 00:00:...|  41.7765007019043| 42.19200134277344|41.650001525878906| 41.95750045776367| 71726000|      0.0|         0.0|\n",
      "|2017-01-27 00:00:...| 41.95000076293945| 41.98500061035156| 41.47200012207031| 41.78850173950195| 59974000|      0.0|         0.0|\n",
      "|2017-01-30 00:00:...|41.650001525878906| 41.67499923706055|40.819000244140625| 41.51900100708008| 74946000|      0.0|         0.0|\n",
      "|2017-01-31 00:00:...|           41.1875|  41.3494987487793| 40.97800064086914| 41.17399978637695| 62744000|      0.0|         0.0|\n",
      "+--------------------+------------------+------------------+------------------+------------------+---------+---------+------------+\n",
      "only showing top 20 rows\n",
      "\n"
     ]
    }
   ],
   "source": [
    "df.show()"
   ]
  },
  {
   "cell_type": "code",
   "execution_count": 181,
   "id": "e4100ba8-8c76-4a09-acbf-fa19e8edd3aa",
   "metadata": {},
   "outputs": [
    {
     "data": {
      "text/plain": [
       "StructType([StructField('Date', StringType(), True), StructField('Open', StringType(), True), StructField('High', StringType(), True), StructField('Low', StringType(), True), StructField('Close', StringType(), True), StructField('Volume', StringType(), True), StructField('Dividends', StringType(), True), StructField('Stock Splits', StringType(), True)])"
      ]
     },
     "execution_count": 181,
     "metadata": {},
     "output_type": "execute_result"
    }
   ],
   "source": [
    "df.schema"
   ]
  },
  {
   "cell_type": "code",
   "execution_count": 182,
   "id": "78b8f1cf-6811-4462-88d4-0b3e4c403d6d",
   "metadata": {},
   "outputs": [],
   "source": [
    "!head -n 1001 {file_name} > head.csv"
   ]
  },
  {
   "cell_type": "code",
   "execution_count": 183,
   "id": "c5e9491e-ed42-4d55-b225-f354cf2586d8",
   "metadata": {},
   "outputs": [],
   "source": [
    "import pandas as pd"
   ]
  },
  {
   "cell_type": "code",
   "execution_count": 184,
   "id": "2d96e285-fbf1-4ed1-8998-60cf711545c9",
   "metadata": {},
   "outputs": [],
   "source": [
    "df_pandas = pd.read_csv('head.csv')"
   ]
  },
  {
   "cell_type": "code",
   "execution_count": 185,
   "id": "a9e9acd6-3f6d-4a6a-a036-6eda296bb120",
   "metadata": {},
   "outputs": [
    {
     "data": {
      "text/plain": [
       "Date             object\n",
       "Open            float64\n",
       "High            float64\n",
       "Low             float64\n",
       "Close           float64\n",
       "Volume            int64\n",
       "Dividends       float64\n",
       "Stock Splits    float64\n",
       "dtype: object"
      ]
     },
     "execution_count": 185,
     "metadata": {},
     "output_type": "execute_result"
    }
   ],
   "source": [
    "df_pandas.dtypes"
   ]
  },
  {
   "cell_type": "code",
   "execution_count": 186,
   "id": "c31810e3-7cd8-478c-ba61-4da26bfc869f",
   "metadata": {},
   "outputs": [],
   "source": [
    "#spark.createDataFrame(df_pandas).schema"
   ]
  },
  {
   "cell_type": "code",
   "execution_count": 187,
   "id": "caa5800e-a0a6-4020-b113-0c872184dc23",
   "metadata": {},
   "outputs": [],
   "source": [
    "from pyspark.sql import types"
   ]
  },
  {
   "cell_type": "code",
   "execution_count": 188,
   "id": "d2ce9cae-6704-4382-b156-4a2f8b5bf0f9",
   "metadata": {},
   "outputs": [],
   "source": [
    "#schema = types.StructType([\n",
    "#    types.StructField('_c0', types.IntegerType(), True),\n",
    "#    types.StructField('Symbol', types.StringType(), True),\n",
    "#    types.StructField('Security', types.StringType(), True),\n",
    "#    types.StructField('GICS Sector', types.StringType(), True),\n",
    "#    types.StructField('GICS Sub-Industry', types.StringType(), True),\n",
    "#    types.StructField('Date added', types.DateType(), True),\n",
    "#    types.StructField('CIK', types.StringType(), True),\n",
    "#    types.StructField('Founded', types.StringType(), True)\n",
    "#])\n",
    "schema = types.StructType([\n",
    "    types.StructField('Date', types.DateType(), True),\n",
    "    types.StructField('Open', types.FloatType(), True),\n",
    "    types.StructField('High', types.FloatType(), True),\n",
    "    types.StructField('Low', types.FloatType(), True),\n",
    "    types.StructField('Close', types.FloatType(), True),\n",
    "    types.StructField('Volume', types.IntegerType(), True),\n",
    "    types.StructField('Dividends', types.FloatType(), True),\n",
    "    types.StructField('Stock Splits', types.FloatType(), True)\n",
    "])"
   ]
  },
  {
   "cell_type": "code",
   "execution_count": 189,
   "id": "fd054129-84ca-49bc-b3af-9bb5f0961f3f",
   "metadata": {},
   "outputs": [],
   "source": [
    "df = spark.read \\\n",
    "    .option(\"header\", \"true\") \\\n",
    "    .schema(schema) \\\n",
    "    .csv(file_name)"
   ]
  },
  {
   "cell_type": "code",
   "execution_count": 190,
   "id": "64a7f2f4-f9d6-432c-a9b9-085ee81ce712",
   "metadata": {},
   "outputs": [],
   "source": [
    "df = df.repartition(24)"
   ]
  },
  {
   "cell_type": "code",
   "execution_count": 195,
   "id": "c698b9e9-a73f-4abb-acfb-a4ced927f383",
   "metadata": {},
   "outputs": [],
   "source": [
    "path = f'yf/{files[1]}/2023/'"
   ]
  },
  {
   "cell_type": "code",
   "execution_count": 196,
   "id": "79b876dd-f988-4f88-b554-39a202b14ccb",
   "metadata": {},
   "outputs": [
    {
     "name": "stdout",
     "output_type": "stream",
     "text": [
      "yf/AMZN/2023/\n"
     ]
    }
   ],
   "source": [
    "print(path)"
   ]
  },
  {
   "cell_type": "code",
   "execution_count": 201,
   "id": "d8b115b3-e46c-46bd-9fd8-42166a916775",
   "metadata": {},
   "outputs": [
    {
     "name": "stderr",
     "output_type": "stream",
     "text": [
      "                                                                                \r"
     ]
    }
   ],
   "source": [
    "df.write.parquet(path, mode='overwrite')"
   ]
  },
  {
   "cell_type": "code",
   "execution_count": 203,
   "id": "0e50b34c-5cc0-437e-b3b1-1c8a2baa498c",
   "metadata": {},
   "outputs": [],
   "source": [
    "df = spark.read.parquet(path)"
   ]
  },
  {
   "cell_type": "code",
   "execution_count": 204,
   "id": "99700729-a590-43c9-b2d2-7f1e6a6cc289",
   "metadata": {},
   "outputs": [
    {
     "name": "stdout",
     "output_type": "stream",
     "text": [
      "root\n",
      " |-- Date: date (nullable = true)\n",
      " |-- Open: float (nullable = true)\n",
      " |-- High: float (nullable = true)\n",
      " |-- Low: float (nullable = true)\n",
      " |-- Close: float (nullable = true)\n",
      " |-- Volume: integer (nullable = true)\n",
      " |-- Dividends: float (nullable = true)\n",
      " |-- Stock Splits: float (nullable = true)\n",
      "\n"
     ]
    }
   ],
   "source": [
    "df.printSchema()"
   ]
  },
  {
   "cell_type": "code",
   "execution_count": 205,
   "id": "99d18fc9-d893-40ae-b107-38a712ef4d0c",
   "metadata": {},
   "outputs": [
    {
     "name": "stderr",
     "output_type": "stream",
     "text": [
      "/home/codespace/spark/spark-3.3.2-bin-hadoop3/python/pyspark/sql/dataframe.py:229: FutureWarning: Deprecated in 2.0, use createOrReplaceTempView instead.\n",
      "  warnings.warn(\"Deprecated in 2.0, use createOrReplaceTempView instead.\", FutureWarning)\n"
     ]
    }
   ],
   "source": [
    "df.registerTempTable('yf_amzn_2023')"
   ]
  },
  {
   "cell_type": "code",
   "execution_count": 216,
   "id": "f648b400-a2f6-4cab-b228-5e31f2099a99",
   "metadata": {},
   "outputs": [],
   "source": [
    "df_result = spark.sql(\"\"\"\n",
    "SELECT\n",
    "    Date, Volume\n",
    "FROM\n",
    "    yf_amzn_2023\n",
    "WHERE \n",
    "    High > 40.0\n",
    "\"\"\")"
   ]
  },
  {
   "cell_type": "code",
   "execution_count": 217,
   "id": "df6c997e-3930-49f8-931e-e8e148f86b41",
   "metadata": {},
   "outputs": [
    {
     "name": "stdout",
     "output_type": "stream",
     "text": [
      "+----------+---------+\n",
      "|      Date|   Volume|\n",
      "+----------+---------+\n",
      "|2022-12-07| 68086900|\n",
      "|2017-07-27|219834000|\n",
      "|2017-09-18| 68226000|\n",
      "|2020-01-14| 68818000|\n",
      "|2020-11-18| 58336000|\n",
      "|2019-03-20|125312000|\n",
      "|2021-12-21| 55956000|\n",
      "|2022-11-22| 62192000|\n",
      "|2019-04-29| 80426000|\n",
      "|2023-09-05| 40636700|\n",
      "|2022-02-28| 57684000|\n",
      "|2018-07-02| 63714000|\n",
      "|2021-04-09| 86830000|\n",
      "|2018-07-23| 77770000|\n",
      "|2023-12-01| 39924600|\n",
      "|2019-09-30| 52894000|\n",
      "|2021-11-23| 73804000|\n",
      "|2018-10-24|138568000|\n",
      "|2017-07-18| 80152000|\n",
      "|2018-12-07|151522000|\n",
      "+----------+---------+\n",
      "only showing top 20 rows\n",
      "\n"
     ]
    }
   ],
   "source": [
    "df_result.show()"
   ]
  },
  {
   "cell_type": "code",
   "execution_count": 218,
   "id": "b822e7bf-1f6b-448e-a3df-2eb6e67a8338",
   "metadata": {},
   "outputs": [],
   "source": [
    "df_result.coalesce(1).write.parquet('yf/out/', mode='overwrite')"
   ]
  },
  {
   "cell_type": "code",
   "execution_count": null,
   "id": "99fa7b6b-fd0c-4dd5-a1fa-f098d1f92049",
   "metadata": {},
   "outputs": [],
   "source": []
  }
 ],
 "metadata": {
  "kernelspec": {
   "display_name": "Python 3 (ipykernel)",
   "language": "python",
   "name": "python3"
  },
  "language_info": {
   "codemirror_mode": {
    "name": "ipython",
    "version": 3
   },
   "file_extension": ".py",
   "mimetype": "text/x-python",
   "name": "python",
   "nbconvert_exporter": "python",
   "pygments_lexer": "ipython3",
   "version": "3.10.13"
  }
 },
 "nbformat": 4,
 "nbformat_minor": 5
}
