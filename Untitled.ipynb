{
 "cells": [
  {
   "cell_type": "code",
   "execution_count": 1,
   "id": "b75c0a3a-ceec-4cb3-9236-e502ca832bc9",
   "metadata": {},
   "outputs": [],
   "source": [
    "import io\n",
    "import os\n",
    "import requests\n",
    "import pandas as pd\n",
    "from google.cloud import storage\n",
    "import pyarrow as pa\n",
    "import pyarrow.parquet as pq"
   ]
  },
  {
   "cell_type": "code",
   "execution_count": 2,
   "id": "cb5626ed-be38-4c5b-b7dc-c6436b0c74c8",
   "metadata": {},
   "outputs": [],
   "source": [
    "#GOOGLE_APPLICATION_CREDENTIALS='/workspaces/RKZoomCamp2024/mycreds.json'\n",
    "GOOGLE_APPLICATION_CREDENTIALS='/home/codespace/.config/gcloud/application_default_credentials.json'"
   ]
  },
  {
   "cell_type": "code",
   "execution_count": 3,
   "id": "fc899888-a0f7-4530-b4e3-5bfdfb970b18",
   "metadata": {},
   "outputs": [],
   "source": [
    "GCP_GCS_BUCKET='nyctaxi_dltdemo'"
   ]
  },
  {
   "cell_type": "code",
   "execution_count": 18,
   "id": "b826375d-b012-4bb2-b053-9b3be6e87d63",
   "metadata": {},
   "outputs": [],
   "source": [
    "init_url = 'https://d37ci6vzurychx.cloudfront.net/trip-data/'"
   ]
  },
  {
   "cell_type": "code",
   "execution_count": 19,
   "id": "88441fdb-e216-4d30-a0ac-5e83332a0a3e",
   "metadata": {},
   "outputs": [],
   "source": [
    "BUCKET = os.environ.get(\"GCP_GCS_BUCKET\", \"nyctaxi_dltdemo\")"
   ]
  },
  {
   "cell_type": "code",
   "execution_count": 20,
   "id": "6ed4f80d-1b28-4ce1-b52f-bd3fcff6a1fc",
   "metadata": {},
   "outputs": [],
   "source": [
    "def upload_to_gcs(bucket, object_name, local_file):\n",
    "    \"\"\"\n",
    "    Ref: https://cloud.google.com/storage/docs/uploading-objects#storage-upload-object-python\n",
    "    \"\"\"\n",
    "    # # WORKAROUND to prevent timeout for files > 6 MB on 800 kbps upload speed.\n",
    "    # # (Ref: https://github.com/googleapis/python-storage/issues/74)\n",
    "    # storage.blob._MAX_MULTIPART_SIZE = 5 * 1024 * 1024  # 5 MB\n",
    "    # storage.blob._DEFAULT_CHUNKSIZE = 5 * 1024 * 1024  # 5 MB\n",
    "\n",
    "    client = storage.Client()\n",
    "    bucket = client.bucket(bucket)\n",
    "    blob = bucket.blob(object_name)\n",
    "    blob.upload_from_filename(local_file)\n"
   ]
  },
  {
   "cell_type": "code",
   "execution_count": 23,
   "id": "915cce12-d59f-44aa-99ab-b2fca803eb76",
   "metadata": {},
   "outputs": [],
   "source": [
    "def web_to_gcs(year, service):\n",
    "    for i in range(12):\n",
    "        \n",
    "        # sets the month part of the file_name string\n",
    "        month = '0'+str(i+1)\n",
    "        month = month[-2:]\n",
    "\n",
    "        # csv file_name\n",
    "        file_name = f\"{service}_tripdata_{year}-{month}.parquet\"\n",
    "\n",
    "        # download it using requests via a pandas df\n",
    "        request_url = f\"{init_url}{file_name}\"\n",
    "        r = requests.get(request_url)\n",
    "        open(file_name, 'wb').write(r.content)\n",
    "        print(f\"Local: {file_name}\")\n",
    "\n",
    "        # read it back into a parquet file\n",
    "        df = pq.read_table(file_name)\n",
    "        print(f\"Parquet: {file_name}\")\n",
    "\n",
    "        # upload it to gcs \n",
    "        upload_to_gcs(BUCKET, f\"{service}/{file_name}\", file_name)\n",
    "        print(f\"GCS: {service}/{file_name}\")\n"
   ]
  },
  {
   "cell_type": "code",
   "execution_count": null,
   "id": "18d073b0-d7dc-4266-9f6f-8bb7598abab0",
   "metadata": {},
   "outputs": [],
   "source": [
    "web_to_gcs('2022', 'green')"
   ]
  },
  {
   "cell_type": "code",
   "execution_count": 9,
   "id": "9f3e5762-2d02-415c-bdbf-ebc188002e1e",
   "metadata": {},
   "outputs": [],
   "source": [
    "init_url = 'https://github.com/DataTalksClub/nyc-tlc-data/releases/download/'\n",
    "BUCKET = os.environ.get(\"GCP_GCS_BUCKET\", \"trips_data_all_aarkayshado\")"
   ]
  },
  {
   "cell_type": "code",
   "execution_count": 17,
   "id": "a6238af8-05e3-4a4d-98b4-b13fd94a3913",
   "metadata": {},
   "outputs": [],
   "source": [
    "init_url = 'https://d37ci6vzurychx.cloudfront.net/trip-data/'\n",
    "BUCKET = os.environ.get(\"GCP_GCS_BUCKET\", \"trips_data_all_aarkayshado\")"
   ]
  },
  {
   "cell_type": "code",
   "execution_count": 18,
   "id": "efb39202-1b5a-4801-8519-43f81e6a4c73",
   "metadata": {},
   "outputs": [],
   "source": [
    "def upload_to_gcs(bucket, object_name, local_file):\n",
    "    \"\"\"\n",
    "    Ref: https://cloud.google.com/storage/docs/uploading-objects#storage-upload-object-python\n",
    "    \"\"\"\n",
    "    # # WORKAROUND to prevent timeout for files > 6 MB on 800 kbps upload speed.\n",
    "    # # (Ref: https://github.com/googleapis/python-storage/issues/74)\n",
    "    # storage.blob._MAX_MULTIPART_SIZE = 5 * 1024 * 1024  # 5 MB\n",
    "    # storage.blob._DEFAULT_CHUNKSIZE = 5 * 1024 * 1024  # 5 MB\n",
    "\n",
    "    client = storage.Client()\n",
    "    bucket = client.bucket(bucket)\n",
    "    blob = bucket.blob(object_name)\n",
    "    blob.upload_from_filename(local_file)"
   ]
  },
  {
   "cell_type": "code",
   "execution_count": 25,
   "id": "6c12f8bf-89ce-4a63-806d-e8fe538dd2a5",
   "metadata": {},
   "outputs": [],
   "source": [
    "def web_to_gcs(year, service):\n",
    "    for i in range(12):\n",
    "        \n",
    "        # sets the month part of the file_name string\n",
    "        month = '0'+str(i+1)\n",
    "        month = month[-2:]\n",
    "\n",
    "        # csv file_name\n",
    "        file_name = f\"{service}_tripdata_{year}-{month}.parquet\"\n",
    "\n",
    "        # download it using requests via a pandas df\n",
    "        request_url = f\"{init_url}{file_name}\"\n",
    "        r = requests.get(request_url)\n",
    "        open(file_name, 'wb').write(r.content)\n",
    "        print(f\"Local: {file_name}\")\n",
    "\n",
    "        # read it back into a parquet file\n",
    "        df = pq.read_table(file_name)\n",
    "        print(f\"Parquet: {file_name}\")\n",
    "\n",
    "        # upload it to gcs \n",
    "        upload_to_gcs(BUCKET, f\"{service}/{file_name}\", file_name)\n",
    "        print(f\"GCS: {service}/{file_name}\")\n"
   ]
  },
  {
   "cell_type": "code",
   "execution_count": 29,
   "id": "82878faa-ac3d-46cc-936b-064994149d54",
   "metadata": {},
   "outputs": [
    {
     "name": "stdout",
     "output_type": "stream",
     "text": [
      "Local: fhv_tripdata_2020-01.parquet\n",
      "Parquet: fhv_tripdata_2020-01.parquet\n",
      "GCS: fhv/fhv_tripdata_2020-01.parquet\n",
      "Local: fhv_tripdata_2020-02.parquet\n",
      "Parquet: fhv_tripdata_2020-02.parquet\n",
      "GCS: fhv/fhv_tripdata_2020-02.parquet\n",
      "Local: fhv_tripdata_2020-03.parquet\n",
      "Parquet: fhv_tripdata_2020-03.parquet\n",
      "GCS: fhv/fhv_tripdata_2020-03.parquet\n",
      "Local: fhv_tripdata_2020-04.parquet\n",
      "Parquet: fhv_tripdata_2020-04.parquet\n",
      "GCS: fhv/fhv_tripdata_2020-04.parquet\n",
      "Local: fhv_tripdata_2020-05.parquet\n",
      "Parquet: fhv_tripdata_2020-05.parquet\n",
      "GCS: fhv/fhv_tripdata_2020-05.parquet\n",
      "Local: fhv_tripdata_2020-06.parquet\n",
      "Parquet: fhv_tripdata_2020-06.parquet\n",
      "GCS: fhv/fhv_tripdata_2020-06.parquet\n",
      "Local: fhv_tripdata_2020-07.parquet\n",
      "Parquet: fhv_tripdata_2020-07.parquet\n",
      "GCS: fhv/fhv_tripdata_2020-07.parquet\n",
      "Local: fhv_tripdata_2020-08.parquet\n",
      "Parquet: fhv_tripdata_2020-08.parquet\n",
      "GCS: fhv/fhv_tripdata_2020-08.parquet\n",
      "Local: fhv_tripdata_2020-09.parquet\n",
      "Parquet: fhv_tripdata_2020-09.parquet\n",
      "GCS: fhv/fhv_tripdata_2020-09.parquet\n",
      "Local: fhv_tripdata_2020-10.parquet\n",
      "Parquet: fhv_tripdata_2020-10.parquet\n",
      "GCS: fhv/fhv_tripdata_2020-10.parquet\n",
      "Local: fhv_tripdata_2020-11.parquet\n",
      "Parquet: fhv_tripdata_2020-11.parquet\n",
      "GCS: fhv/fhv_tripdata_2020-11.parquet\n",
      "Local: fhv_tripdata_2020-12.parquet\n",
      "Parquet: fhv_tripdata_2020-12.parquet\n",
      "GCS: fhv/fhv_tripdata_2020-12.parquet\n"
     ]
    }
   ],
   "source": [
    "web_to_gcs('2020', 'fhv')"
   ]
  },
  {
   "cell_type": "code",
   "execution_count": 21,
   "id": "46746e05-fa90-4626-a989-aa10f90a9932",
   "metadata": {},
   "outputs": [
    {
     "name": "stdout",
     "output_type": "stream",
     "text": [
      "Local: yellow_tripdata_2019-01.parquet\n"
     ]
    }
   ],
   "source": [
    "# csv file_name\n",
    "file_name = \"yellow_tripdata_2019-01.parquet\"\n",
    "\n",
    "# download it using requests via a pandas df\n",
    "request_url = f\"{init_url}{file_name}\"\n",
    "r = requests.get(request_url)\n",
    "open(file_name, 'wb').write(r.content)\n",
    "print(f\"Local: {file_name}\")"
   ]
  },
  {
   "cell_type": "code",
   "execution_count": 22,
   "id": "888d196f-7f6b-4b9d-9d52-b9d516cfe271",
   "metadata": {},
   "outputs": [
    {
     "name": "stdout",
     "output_type": "stream",
     "text": [
      "Parquet: yellow_tripdata_2019-01.parquet\n"
     ]
    }
   ],
   "source": [
    "# read it back into a parquet file\n",
    "df = pq.read_table(file_name)\n",
    "print(f\"Parquet: {file_name}\")"
   ]
  },
  {
   "cell_type": "code",
   "execution_count": 24,
   "id": "e17441c4-299f-45b4-b20b-1869fd66c00f",
   "metadata": {
    "scrolled": true
   },
   "outputs": [
    {
     "name": "stdout",
     "output_type": "stream",
     "text": [
      "GCS: yellow_tripdata_2019-01.parquet\n"
     ]
    }
   ],
   "source": [
    "# upload it to gcs \n",
    "upload_to_gcs(BUCKET, f\"{file_name}\", file_name)\n",
    "print(f\"GCS: {file_name}\")"
   ]
  },
  {
   "cell_type": "code",
   "execution_count": 7,
   "id": "e880d0f8-ea18-4a57-9919-7227f6c96cf2",
   "metadata": {},
   "outputs": [
    {
     "name": "stdout",
     "output_type": "stream",
     "text": [
      "Local: taxi+_zone_lookup.csv\n"
     ]
    }
   ],
   "source": [
    "init_url = 'https://s3.amazonaws.com/nyc-tlc/misc'\n",
    "file_name = 'taxi+_zone_lookup.csv'\n",
    "\n",
    "# download it using requests via a pandas df\n",
    "request_url = f\"{init_url}/{file_name}\"\n",
    "r = requests.get(request_url)\n",
    "open(file_name, 'wb').write(r.content)\n",
    "print(f\"Local: {file_name}\")\n",
    "\n"
   ]
  },
  {
   "cell_type": "code",
   "execution_count": 9,
   "id": "0227a3e3-8a37-4a86-b5a0-02fc7f5476dd",
   "metadata": {},
   "outputs": [
    {
     "name": "stdout",
     "output_type": "stream",
     "text": [
      "Parquet: taxi+_zone_lookup.parquet\n"
     ]
    }
   ],
   "source": [
    "# read it back into a parquet file\n",
    "df = pd.read_csv(file_name)\n",
    "file_name = file_name.replace('.csv', '.parquet')\n",
    "df.to_parquet(file_name, engine='pyarrow')\n",
    "print(f\"Parquet: {file_name}\")"
   ]
  },
  {
   "cell_type": "code",
   "execution_count": 10,
   "id": "00b3b0c2-c0d6-48cb-8b3e-3f14389abf06",
   "metadata": {},
   "outputs": [
    {
     "name": "stdout",
     "output_type": "stream",
     "text": [
      "GCS: taxi+_zone_lookup.parquet\n"
     ]
    }
   ],
   "source": [
    "# upload it to gcs \n",
    "upload_to_gcs(BUCKET, f\"{file_name}\", file_name)\n",
    "print(f\"GCS: {file_name}\")"
   ]
  },
  {
   "cell_type": "code",
   "execution_count": null,
   "id": "3b758de0-ec8e-40eb-b740-fb6a3ac3d655",
   "metadata": {},
   "outputs": [],
   "source": []
  }
 ],
 "metadata": {
  "kernelspec": {
   "display_name": "Python 3 (ipykernel)",
   "language": "python",
   "name": "python3"
  },
  "language_info": {
   "codemirror_mode": {
    "name": "ipython",
    "version": 3
   },
   "file_extension": ".py",
   "mimetype": "text/x-python",
   "name": "python",
   "nbconvert_exporter": "python",
   "pygments_lexer": "ipython3",
   "version": "3.10.13"
  }
 },
 "nbformat": 4,
 "nbformat_minor": 5
}
